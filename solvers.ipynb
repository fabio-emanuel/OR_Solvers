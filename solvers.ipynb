{
 "cells": [
  {
   "cell_type": "markdown",
   "id": "14dab681-89a2-4e9a-b0e1-d832243b7dcb",
   "metadata": {},
   "source": [
    "# SCIP (Solving Constraint Integer Programs)\n",
    "\n",
    "#### SCIP is currently one of the fastest non-commercial solvers for mixed integer programming (MIP) and mixed integer nonlinear programming (MINLP). It is also a framework for constraint integer programming and branch-cut-and-price. It allows for total control of the solution process and the access of detailed information down to the guts of the solver. "
   ]
  },
  {
   "cell_type": "code",
   "execution_count": 9,
   "id": "36a7c48a-e1b7-4d24-81ce-1fee95540f89",
   "metadata": {},
   "outputs": [
    {
     "name": "stdout",
     "output_type": "stream",
     "text": [
      "x = 3.5, y = 1.5\n",
      "feasible solution found by trivial heuristic after 0.0 seconds, objective value 4.000000e+05\n",
      "presolving:\n",
      "(round 1, fast)       0 del vars, 0 del conss, 0 add conss, 3 chg bounds, 0 chg sides, 0 chg coeffs, 0 upgd conss, 0 impls, 0 clqs\n",
      "(round 2, fast)       0 del vars, 0 del conss, 0 add conss, 4 chg bounds, 0 chg sides, 0 chg coeffs, 0 upgd conss, 0 impls, 0 clqs\n",
      "(round 3, fast)       0 del vars, 0 del conss, 0 add conss, 5 chg bounds, 0 chg sides, 0 chg coeffs, 0 upgd conss, 0 impls, 0 clqs\n",
      "(round 4, fast)       1 del vars, 2 del conss, 0 add conss, 6 chg bounds, 0 chg sides, 0 chg coeffs, 0 upgd conss, 0 impls, 0 clqs\n",
      "presolving (5 rounds: 5 fast, 1 medium, 1 exhaustive):\n",
      " 2 deleted vars, 2 deleted constraints, 0 added constraints, 6 tightened bounds, 0 added holes, 0 changed sides, 0 changed coefficients\n",
      " 0 implications, 0 cliques\n",
      "transformed 1/3 original solutions to the transformed problem space\n",
      "Presolving Time: 0.00\n",
      "\n",
      "SCIP Status        : problem is solved [optimal solution found]\n",
      "Solving Time (sec) : 0.00\n",
      "Solving Nodes      : 0\n",
      "Primal Bound       : +1.15000000000000e+01 (3 solutions)\n",
      "Dual Bound         : +1.15000000000000e+01\n",
      "Gap                : 0.00 %\n"
     ]
    }
   ],
   "source": [
    "from pyscipopt import Model\n",
    "\n",
    "# Modelo\n",
    "model = Model(\"Exemplo\")\n",
    "\n",
    "# Variáveis\n",
    "x = model.addVar(\"x\", lb=0)\n",
    "y = model.addVar(\"y\", lb=0)\n",
    "\n",
    "# Função objetivo\n",
    "model.setObjective(2 * x + 3 * y, \"minimize\")\n",
    "\n",
    "# Restrições\n",
    "model.addCons(x + y >= 5)\n",
    "model.addCons(x - y <= 2)\n",
    "\n",
    "# Resolver\n",
    "model.optimize()\n",
    "\n",
    "# Resultado\n",
    "print(f\"x = {model.getVal(x)}, y = {model.getVal(y)}\")"
   ]
  },
  {
   "cell_type": "markdown",
   "id": "9fd4335d-6fbe-4c02-8ff1-c0565fbe23ef",
   "metadata": {},
   "source": [
    "# HiGHS (High-performance solver for LP/MILP/QP)\n",
    "\n",
    "### SciPy provides algorithms for optimization, integration, interpolation, eigenvalue problems, algebraic equations, differential equations, statistics and many other classes of problems. "
   ]
  },
  {
   "cell_type": "code",
   "execution_count": 4,
   "id": "040900d2-302d-487f-9ef9-fb5d694db4b7",
   "metadata": {},
   "outputs": [
    {
     "name": "stdout",
     "output_type": "stream",
     "text": [
      "Status: Optimization terminated successfully. (HiGHS Status 7: Optimal)\n",
      "x = 3.5, y = 1.5\n"
     ]
    }
   ],
   "source": [
    "from scipy.optimize import linprog\n",
    "\n",
    "# Coeficientes da função objetivo\n",
    "c = [2, 3]\n",
    "\n",
    "# Restrições: Ax <= b\n",
    "A = [[-1, -1], [1, -1]]\n",
    "b = [-5, 2]\n",
    "\n",
    "# Resolver usando HiGHS\n",
    "res = linprog(c, A_ub=A, b_ub=b, method='highs')\n",
    "\n",
    "print(f\"Status: {res.message}\")\n",
    "print(f\"x = {res.x[0]}, y = {res.x[1]}\")\n"
   ]
  },
  {
   "cell_type": "markdown",
   "id": "a1fd748e-d10e-4f19-bf75-85e15e711e90",
   "metadata": {},
   "source": [
    "# GLPK (GNU Linear Programming Kit)\n",
    "\n",
    "###  The GLPK (GNU Linear Programming Kit) package is intended for solving large-scale linear programming (LP), mixed integer programming (MIP), and other related problems. It is a set of routines written in ANSI C and organized in the form of a callable library.\n",
    "\n",
    "### GLPK supports the GNU MathProg modeling language, which is a subset of the AMPL language. "
   ]
  },
  {
   "cell_type": "code",
   "execution_count": 11,
   "id": "162f7b03-ec71-4749-8a9c-de3193bc2b01",
   "metadata": {},
   "outputs": [
    {
     "name": "stdout",
     "output_type": "stream",
     "text": [
      "x = 3.5, y = 1.5\n"
     ]
    }
   ],
   "source": [
    "from pyomo.environ import *\n",
    "\n",
    "# Modelo\n",
    "model = ConcreteModel()\n",
    "\n",
    "# Variáveis\n",
    "model.x = Var(within=NonNegativeReals)\n",
    "model.y = Var(within=NonNegativeReals)\n",
    "\n",
    "# Função objetivo\n",
    "model.obj = Objective(expr=2 * model.x + 3 * model.y, sense=minimize)\n",
    "\n",
    "# Restrições\n",
    "model.constraint1 = Constraint(expr=model.x + model.y >= 5)\n",
    "model.constraint2 = Constraint(expr=model.x - model.y <= 2)\n",
    "\n",
    "# Resolver usando GLPK\n",
    "solver = SolverFactory('glpk')\n",
    "solver.solve(model)\n",
    "\n",
    "# Resultado\n",
    "print(f\"x = {model.x()}, y = {model.y()}\")"
   ]
  },
  {
   "cell_type": "markdown",
   "id": "43fc4967-8e31-41fa-802b-6dd777a5b29d",
   "metadata": {},
   "source": [
    "# COIN-OR CBC (Coin-or Branch and Cut)\n",
    "\n",
    "### PuLP is an linear and mixed integer programming modeler written in Python.\n",
    "\n",
    "### With PuLP, it is simple to create MILP optimisation problems and solve them with the latest open-source (or proprietary) solvers. PuLP ### can generate MPS or LP files and call solvers such as GLPK, COIN-OR CLP/CBC, CPLEX, GUROBI, MOSEK, XPRESS, CHOCO, MIPCL, HiGHS, SCIP/FSCIP."
   ]
  },
  {
   "cell_type": "code",
   "execution_count": 12,
   "id": "8d6246e7-58be-44e0-b76d-8d530bc15d18",
   "metadata": {},
   "outputs": [
    {
     "name": "stdout",
     "output_type": "stream",
     "text": [
      "Welcome to the CBC MILP Solver \n",
      "Version: 2.10.3 \n",
      "Build Date: Dec 15 2019 \n",
      "\n",
      "command line - /home/fabio/.local/lib/python3.10/site-packages/pulp/solverdir/cbc/linux/64/cbc /tmp/9e45d3a4590b4c5992abbe2111bceb1c-pulp.mps -timeMode elapsed -branch -printingOptions all -solution /tmp/9e45d3a4590b4c5992abbe2111bceb1c-pulp.sol (default strategy 1)\n",
      "At line 2 NAME          MODEL\n",
      "At line 3 ROWS\n",
      "At line 7 COLUMNS\n",
      "At line 14 RHS\n",
      "At line 17 BOUNDS\n",
      "At line 18 ENDATA\n",
      "Problem MODEL has 2 rows, 2 columns and 4 elements\n",
      "Coin0008I MODEL read with 0 errors\n",
      "Option for timeMode changed from cpu to elapsed\n",
      "Presolve 2 (0) rows, 2 (0) columns and 4 (0) elements\n",
      "0  Obj 0 Primal inf 4.9999999 (1)\n",
      "2  Obj 11.5\n",
      "Optimal - objective value 11.5\n",
      "Optimal objective 11.5 - 2 iterations time 0.002\n",
      "Option for printingOptions changed from normal to all\n",
      "Total time (CPU seconds):       0.00   (Wallclock seconds):       0.01\n",
      "\n",
      "Status: Optimal\n",
      "x = 3.5, y = 1.5\n"
     ]
    }
   ],
   "source": [
    "import pulp as pl\n",
    "\n",
    "# Definindo um problema simples de minimização\n",
    "model = pl.LpProblem(\"Exemplo\", pl.LpMinimize)\n",
    "\n",
    "# Variáveis\n",
    "x = pl.LpVariable(\"x\", lowBound=0)\n",
    "y = pl.LpVariable(\"y\", lowBound=0)\n",
    "\n",
    "# Função objetivo\n",
    "model += 2 * x + 3 * y\n",
    "\n",
    "# Restrições\n",
    "model += x + y >= 5\n",
    "model += x - y <= 2\n",
    "\n",
    "# Resolver usando CBC\n",
    "model.solve(pl.PULP_CBC_CMD())\n",
    "\n",
    "print(f\"Status: {pl.LpStatus[model.status]}\")\n",
    "print(f\"x = {x.varValue}, y = {y.varValue}\")"
   ]
  },
  {
   "cell_type": "code",
   "execution_count": null,
   "id": "a602c5b0-c53f-496d-918a-c08cdb4a3392",
   "metadata": {},
   "outputs": [],
   "source": []
  }
 ],
 "metadata": {
  "kernelspec": {
   "display_name": "Python 3 (ipykernel)",
   "language": "python",
   "name": "python3"
  },
  "language_info": {
   "codemirror_mode": {
    "name": "ipython",
    "version": 3
   },
   "file_extension": ".py",
   "mimetype": "text/x-python",
   "name": "python",
   "nbconvert_exporter": "python",
   "pygments_lexer": "ipython3",
   "version": "3.10.12"
  }
 },
 "nbformat": 4,
 "nbformat_minor": 5
}
